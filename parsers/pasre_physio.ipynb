{
 "cells": [
  {
   "cell_type": "markdown",
   "metadata": {},
   "source": [
    "# ОН ДАЖЕ С ФИЛЬТРАМИ НЕ СЧИТАЕТ"
   ]
  },
  {
   "cell_type": "code",
   "execution_count": 21,
   "metadata": {},
   "outputs": [],
   "source": [
    "import os\n",
    "import csv\n",
    "import wfdb\n",
    "import heartpy as hp\n",
    "import pandas as pd\n",
    "import numpy as np\n",
    "from scipy.signal import resample, butter, filtfilt"
   ]
  },
  {
   "cell_type": "code",
   "execution_count": null,
   "metadata": {},
   "outputs": [],
   "source": [
    "age_group = {15:1,16:1,17:1,18:1,19:1,\n",
    "             20:2,21:2,22:2,23:2,24:2,\n",
    "             25:3,26:3,27:3,28:3,29:3,\n",
    "             30:4,31:4,32:4,33:4,34:4,\n",
    "             35:5,36:5,37:5,38:5,39:5,\n",
    "             40:6,41:6,42:6,43:6,44:6,\n",
    "             45:7,46:7,47:7,48:7,49:7,\n",
    "             50:8,51:8,52:8,53:8,54:8,\n",
    "             55:9,56:9,57:9,58:9,59:9,\n",
    "             60:10,61:10,62:10,63:10,64:10,\n",
    "             65:11,66:11,67:11,68:11,69:11,\n",
    "             70:12,71:12,72:12,73:12,74:12,\n",
    "             75:13,76:13,77:13,78:13,79:13,\n",
    "             80:14,81:14,82:14,83:14,84:14,\n",
    "             85:15,86:15,87:15,88:15,89:15,\n",
    "             90:16,91:16,92:16,93:16,94:16,\n",
    "             95:17,96:17,97:17,98:17,99:17,100:17,\n",
    "             }"
   ]
  },
  {
   "cell_type": "code",
   "execution_count": null,
   "metadata": {},
   "outputs": [],
   "source": [
    "subjects = pd.read_excel(r\"D:\\Proga\\AML\\datasets\\lucilacapurro\\PPG_Signal_Dataset\\subjects_metadata.xlsx\",dtype = {\"ID\":str})\n",
    "#subjects.dropna(inplace=True)\n",
    "subjects = subjects[subjects['observations'].isna()]\n",
    "subjects = subjects.reset_index()\n",
    "subjects = subjects[[\"subjectcode\",\"age\"]]\n",
    "subjects[\"age\"] = subjects[\"age\"].map(age_group)\n",
    "subjects[\"age\"]"
   ]
  },
  {
   "cell_type": "code",
   "execution_count": 23,
   "metadata": {},
   "outputs": [
    {
     "name": "stdout",
     "output_type": "stream",
     "text": [
      "{'record_name': 's1_sit', 'n_sig': 18, 'fs': 500, 'counter_freq': None, 'base_counter': None, 'sig_len': 254026, 'base_time': None, 'base_date': None, 'comments': ['<filename>: s1_sit <activity>: sit <gender>: female <height>: 160 <weight>: 50 <age>: 25 <bp_sys_start>: 87 <bp_sys_end>: 87 <bp_dia_start>: 59 <bp_dia_end>: 57 <hr_1_start>: 74 <hr_2_start>: 69 <hr_1_end>: 74 <hr_2_end>: 70 <spo2_start>: 98 <spo2_end>: 98'], 'sig_name': ['ecg', 'pleth_1', 'pleth_2', 'pleth_3', 'pleth_4', 'pleth_5', 'pleth_6', 'lc_1', 'lc_2', 'temp_1', 'temp_2', 'temp_3', 'a_x', 'a_y', 'a_z', 'g_x', 'g_y', 'g_z'], 'p_signal': array([[ 3.07405002e+04,  7.16949830e+04,  7.37368418e+04, ...,\n",
      "         7.73396744e-03, -4.82016791e-04,  4.57538728e-03],\n",
      "       [ 3.07200475e+04,  7.16798682e+04,  7.37258545e+04, ...,\n",
      "         6.81947805e-03,  1.24659515e-03,  4.31670814e-03],\n",
      "       [ 3.07098211e+04,  7.16798682e+04,  7.37258545e+04, ...,\n",
      "         6.14014307e-03,  1.91144590e-03,  3.37899626e-03],\n",
      "       ...,\n",
      "       [ 3.14052150e+04,  7.14440103e+04,  7.35031929e+04, ...,\n",
      "        -4.07600987e-03, -1.16348881e-03, -2.32811225e-03],\n",
      "       [ 3.13234039e+04,  7.14240787e+04,  7.34942237e+04, ...,\n",
      "        -3.68408584e-03, -7.64578358e-04, -2.47361927e-03],\n",
      "       [ 3.12415929e+04,  7.14280650e+04,  7.35011749e+04, ...,\n",
      "        -3.00475086e-03, -8.97548507e-04, -2.19877268e-03]]), 'd_signal': None, 'e_p_signal': None, 'e_d_signal': None, 'file_name': ['s1_sit.dat', 's1_sit.dat', 's1_sit.dat', 's1_sit.dat', 's1_sit.dat', 's1_sit.dat', 's1_sit.dat', 's1_sit.dat', 's1_sit.dat', 's1_sit.dat', 's1_sit.dat', 's1_sit.dat', 's1_sit.dat', 's1_sit.dat', 's1_sit.dat', 's1_sit.dat', 's1_sit.dat', 's1_sit.dat'], 'fmt': ['212', '212', '212', '212', '212', '212', '212', '212', '212', '212', '212', '212', '212', '212', '212', '212', '212', '212'], 'samps_per_frame': [1, 1, 1, 1, 1, 1, 1, 1, 1, 1, 1, 1, 1, 1, 1, 1, 1, 1], 'skew': [None, None, None, None, None, None, None, None, None, None, None, None, None, None, None, None, None, None], 'byte_offset': [None, None, None, None, None, None, None, None, None, None, None, None, None, None, None, None, None, None], 'adc_gain': [0.09778630723913237, 6.020574686815348, 4.459683816088181, 14.517698343504795, 2.856934028974484, 1.0317436093094239, 3.1687298626420213, 0.015003494070973998, 0.016111825759922257, 5933.313397129187, 4705.729310822031, 5648.217625744356, 19940.206423535743, 26716.762042335686, 24167.766212929266, 38272.72383973415, 60163.879223257376, 61852.68761210438], 'baseline': [-4238, -430736, -328148, -85306, -242438, -96694, -20733, -108087, -102285, -200457, -172065, -192271, -84631, -36670, 205039, -20, 97, 91], 'units': ['mV', 'NU', 'NU', 'NU', 'NU', 'NU', 'NU', 'NU', 'NU', 'C', 'C', 'C', 'g', 'g', 'g', 'deg/s', 'deg/s', 'deg/s'], 'adc_res': [12, 12, 12, 12, 12, 12, 12, 12, 12, 12, 12, 12, 12, 12, 12, 12, 12, 12], 'adc_zero': [0, 0, 0, 0, 0, 0, 0, 0, 0, 0, 0, 0, 0, 0, 0, 0, 0, 0], 'init_value': [-1232, 909, 695, -1930, -484, -979, -1216, -1567, -1154, 148, -305, -1894, 1080, -31, 802, 276, 68, 374], 'checksum': [27380, 31519, 65163, 28840, 7943, 30654, 37387, 62594, 40012, 57005, 58136, 29325, 59748, 43521, 9513, 63081, 44363, 34207], 'block_size': [0, 0, 0, 0, 0, 0, 0, 0, 0, 0, 0, 0, 0, 0, 0, 0, 0, 0]}\n"
     ]
    }
   ],
   "source": [
    "record = wfdb.rdrecord('D:\\\\Proga\\\\AML\\datasets\\\\physionet.org\\\\files\\\\pulse-transit-time-ppg\\\\1.1.0\\\\s1_sit')\n",
    "print(record.__dict__)"
   ]
  },
  {
   "cell_type": "code",
   "execution_count": 38,
   "metadata": {},
   "outputs": [
    {
     "ename": "BadSignalWarning",
     "evalue": "\n----------------\nCould not determine best fit for given signal. Please check the source signal.\n Probable causes:\n- detected heart rate falls outside of bpmmin<->bpmmax constraints\n- no detectable heart rate present in signal\n- very noisy signal (consider filtering and scaling)\nIf you're sure the signal contains heartrate data, consider filtering and/or scaling first.\n----------------\n",
     "output_type": "error",
     "traceback": [
      "\u001b[1;31m---------------------------------------------------------------------------\u001b[0m",
      "\u001b[1;31mBadSignalWarning\u001b[0m                          Traceback (most recent call last)",
      "Cell \u001b[1;32mIn[38], line 34\u001b[0m\n\u001b[0;32m     31\u001b[0m pleth_1_data_filtered \u001b[38;5;241m=\u001b[39m butter_bandpass_filter(pleth_1_data_dc_removed, lowcut, highcut, fs_new)\n\u001b[0;32m     33\u001b[0m \u001b[38;5;66;03m# Анализ данных PPG с использованием heartpy\u001b[39;00m\n\u001b[1;32m---> 34\u001b[0m wd, m \u001b[38;5;241m=\u001b[39m \u001b[43mhp\u001b[49m\u001b[38;5;241;43m.\u001b[39;49m\u001b[43mprocess\u001b[49m\u001b[43m(\u001b[49m\u001b[43mpleth_1_data_filtered\u001b[49m\u001b[43m,\u001b[49m\u001b[43m \u001b[49m\u001b[43msample_rate\u001b[49m\u001b[38;5;241;43m=\u001b[39;49m\u001b[43mfs_new\u001b[49m\u001b[43m)\u001b[49m\n",
      "File \u001b[1;32mc:\\Users\\toha2\\AppData\\Local\\Programs\\Python\\Python311\\Lib\\site-packages\\heartpy\\heartpy.py:289\u001b[0m, in \u001b[0;36mprocess\u001b[1;34m(hrdata, sample_rate, windowsize, report_time, calc_freq, freq_method, welch_wsize, freq_square, interp_clipping, clipping_scale, interp_threshold, hampel_correct, bpmmin, bpmmax, reject_segmentwise, high_precision, high_precision_fs, breathing_method, clean_rr, clean_rr_method, measures, working_data)\u001b[0m\n\u001b[0;32m    285\u001b[0m working_data[\u001b[38;5;124m'\u001b[39m\u001b[38;5;124msample_rate\u001b[39m\u001b[38;5;124m'\u001b[39m] \u001b[38;5;241m=\u001b[39m sample_rate\n\u001b[0;32m    287\u001b[0m rol_mean \u001b[38;5;241m=\u001b[39m rolling_mean(hrdata, windowsize, sample_rate)\n\u001b[1;32m--> 289\u001b[0m working_data \u001b[38;5;241m=\u001b[39m \u001b[43mfit_peaks\u001b[49m\u001b[43m(\u001b[49m\u001b[43mhrdata\u001b[49m\u001b[43m,\u001b[49m\u001b[43m \u001b[49m\u001b[43mrol_mean\u001b[49m\u001b[43m,\u001b[49m\u001b[43m \u001b[49m\u001b[43msample_rate\u001b[49m\u001b[43m,\u001b[49m\u001b[43m \u001b[49m\u001b[43mbpmmin\u001b[49m\u001b[38;5;241;43m=\u001b[39;49m\u001b[43mbpmmin\u001b[49m\u001b[43m,\u001b[49m\n\u001b[0;32m    290\u001b[0m \u001b[43m                         \u001b[49m\u001b[43mbpmmax\u001b[49m\u001b[38;5;241;43m=\u001b[39;49m\u001b[43mbpmmax\u001b[49m\u001b[43m,\u001b[49m\u001b[43m \u001b[49m\u001b[43mworking_data\u001b[49m\u001b[38;5;241;43m=\u001b[39;49m\u001b[43mworking_data\u001b[49m\u001b[43m)\u001b[49m\n\u001b[0;32m    292\u001b[0m \u001b[38;5;28;01mif\u001b[39;00m high_precision:\n\u001b[0;32m    293\u001b[0m     working_data \u001b[38;5;241m=\u001b[39m interpolate_peaks(hrdata, working_data[\u001b[38;5;124m'\u001b[39m\u001b[38;5;124mpeaklist\u001b[39m\u001b[38;5;124m'\u001b[39m], sample_rate\u001b[38;5;241m=\u001b[39msample_rate,\n\u001b[0;32m    294\u001b[0m                                      desired_sample_rate\u001b[38;5;241m=\u001b[39mhigh_precision_fs, working_data\u001b[38;5;241m=\u001b[39mworking_data)\n",
      "File \u001b[1;32mc:\\Users\\toha2\\AppData\\Local\\Programs\\Python\\Python311\\Lib\\site-packages\\heartpy\\peakdetection.py:305\u001b[0m, in \u001b[0;36mfit_peaks\u001b[1;34m(hrdata, rol_mean, sample_rate, bpmmin, bpmmax, working_data)\u001b[0m\n\u001b[0;32m    303\u001b[0m         \u001b[38;5;28;01mreturn\u001b[39;00m working_data\n\u001b[0;32m    304\u001b[0m     \u001b[38;5;28;01melse\u001b[39;00m:\n\u001b[1;32m--> 305\u001b[0m         \u001b[38;5;28;01mraise\u001b[39;00m BadSignalWarning(\u001b[38;5;124m'\u001b[39m\u001b[38;5;130;01m\\n\u001b[39;00m\u001b[38;5;124m----------------\u001b[39m\u001b[38;5;130;01m\\n\u001b[39;00m\u001b[38;5;124mCould not determine best fit for \u001b[39m\u001b[38;5;130;01m\\\u001b[39;00m\n\u001b[0;32m    306\u001b[0m \u001b[38;5;124mgiven signal. Please check the source signal.\u001b[39m\u001b[38;5;130;01m\\n\u001b[39;00m\u001b[38;5;124m Probable causes:\u001b[39m\u001b[38;5;130;01m\\n\u001b[39;00m\u001b[38;5;124m- detected heart rate falls \u001b[39m\u001b[38;5;130;01m\\\u001b[39;00m\n\u001b[0;32m    307\u001b[0m \u001b[38;5;124moutside of bpmmin<->bpmmax constraints\u001b[39m\u001b[38;5;130;01m\\n\u001b[39;00m\u001b[38;5;124m- no detectable heart rate present in signal\u001b[39m\u001b[38;5;130;01m\\n\u001b[39;00m\u001b[38;5;130;01m\\\u001b[39;00m\n\u001b[0;32m    308\u001b[0m \u001b[38;5;124m- very noisy signal (consider filtering and scaling)\u001b[39m\u001b[38;5;130;01m\\n\u001b[39;00m\u001b[38;5;124mIf you\u001b[39m\u001b[38;5;130;01m\\'\u001b[39;00m\u001b[38;5;124mre sure the signal contains heart\u001b[39m\u001b[38;5;130;01m\\\u001b[39;00m\n\u001b[0;32m    309\u001b[0m \u001b[38;5;124mrate data, consider filtering and/or scaling first.\u001b[39m\u001b[38;5;130;01m\\n\u001b[39;00m\u001b[38;5;124m----------------\u001b[39m\u001b[38;5;130;01m\\n\u001b[39;00m\u001b[38;5;124m'\u001b[39m)\n",
      "\u001b[1;31mBadSignalWarning\u001b[0m: \n----------------\nCould not determine best fit for given signal. Please check the source signal.\n Probable causes:\n- detected heart rate falls outside of bpmmin<->bpmmax constraints\n- no detectable heart rate present in signal\n- very noisy signal (consider filtering and scaling)\nIf you're sure the signal contains heartrate data, consider filtering and/or scaling first.\n----------------\n"
     ]
    }
   ],
   "source": [
    "# Определение индекса канала pleth_1\n",
    "pleth_1_index = record.sig_name.index('pleth_6')\n",
    "\n",
    "# Извлечение данных pleth_1\n",
    "pleth_1_data = record.p_signal[:, pleth_1_index]\n",
    "\n",
    "# Интерполяция данных до 1000 Гц\n",
    "fs_original = record.fs\n",
    "fs_new = 1000\n",
    "pleth_1_data_resampled = resample(pleth_1_data, int(len(pleth_1_data) * fs_new / fs_original), axis=0)\n",
    "\n",
    "# Обрезка данных до 3 минут (180 секунд)\n",
    "duration_seconds = 180\n",
    "samples_to_keep = duration_seconds * fs_new\n",
    "pleth_1_data_resampled = pleth_1_data_resampled[:samples_to_keep]\n",
    "\n",
    "# Удаление постоянной составляющей (DC-составляющей)\n",
    "pleth_1_data_dc_removed = pleth_1_data_resampled - np.mean(pleth_1_data_resampled)\n",
    "\n",
    "# Фильтрация данных с помощью фильтра Баттерворта\n",
    "def butter_bandpass_filter(data, lowcut, highcut, fs, order=5):\n",
    "    nyq = 0.5 * fs\n",
    "    low = lowcut / nyq\n",
    "    high = highcut / nyq\n",
    "    b, a = butter(order, [low, high], btype='band')\n",
    "    y = filtfilt(b, a, data)\n",
    "    return y\n",
    "\n",
    "lowcut = 0.75\n",
    "highcut = 5.0\n",
    "pleth_1_data_filtered = butter_bandpass_filter(pleth_1_data_dc_removed, lowcut, highcut, fs_new)\n",
    "\n",
    "# Анализ данных PPG с использованием heartpy\n",
    "wd, m = hp.process(pleth_1_data_filtered, sample_rate=fs_new)"
   ]
  },
  {
   "cell_type": "code",
   "execution_count": 24,
   "metadata": {},
   "outputs": [
    {
     "name": "stdout",
     "output_type": "stream",
     "text": [
      "Длина сигнала ecg: 8.47 минут\n",
      "Длина сигнала pleth_1: 8.47 минут\n",
      "Длина сигнала pleth_2: 8.47 минут\n",
      "Длина сигнала pleth_3: 8.47 минут\n",
      "Длина сигнала pleth_4: 8.47 минут\n",
      "Длина сигнала pleth_5: 8.47 минут\n",
      "Длина сигнала pleth_6: 8.47 минут\n",
      "Длина сигнала lc_1: 52.92 минут\n",
      "Длина сигнала lc_2: 52.92 минут\n",
      "Длина сигнала temp_1: 423.38 минут\n",
      "Длина сигнала temp_2: 423.38 минут\n",
      "Длина сигнала temp_3: 8.47 минут\n",
      "Длина сигнала a_x: 8.47 минут\n",
      "Длина сигнала a_y: 8.47 минут\n",
      "Длина сигнала a_z: 8.47 минут\n",
      "Длина сигнала g_x: 8.47 минут\n",
      "Длина сигнала g_y: 8.47 минут\n",
      "Длина сигнала g_z: 8.47 минут\n"
     ]
    }
   ],
   "source": [
    "fs_dict = {\n",
    "    'ecg': 500,\n",
    "    'pleth_1': 500,\n",
    "    'pleth_2': 500,\n",
    "    'pleth_3': 500,\n",
    "    'pleth_4': 500,\n",
    "    'pleth_5': 500,\n",
    "    'pleth_6': 500,\n",
    "    'lc_1': 80,\n",
    "    'lc_2': 80,\n",
    "    'temp_1': 10,\n",
    "    'temp_2': 10,\n",
    "    'temp_3': 500,\n",
    "    'a_x': 500,\n",
    "    'a_y': 500,\n",
    "    'a_z': 500,\n",
    "    'g_x': 500,\n",
    "    'g_y': 500,\n",
    "    'g_z': 500\n",
    "}\n",
    "\n",
    "# Длина сигнала\n",
    "sig_len = record.sig_len\n",
    "\n",
    "# Расчет длины каждого сигнала в минутах\n",
    "durations = {}\n",
    "for channel, fs in fs_dict.items():\n",
    "    duration_minutes = sig_len / (fs * 60)\n",
    "    durations[channel] = duration_minutes\n",
    "\n",
    "# Вывод результатов\n",
    "for channel, duration in durations.items():\n",
    "    print(f\"Длина сигнала {channel}: {duration:.2f} минут\")"
   ]
  },
  {
   "cell_type": "code",
   "execution_count": null,
   "metadata": {},
   "outputs": [],
   "source": [
    "result = []\n",
    "result_metadata = []\n",
    "result_signals = {}\n",
    "\n",
    "target_fs = 1000\n",
    "five_minute_samples = 300 * target_fs\n",
    "new_id = 0\n",
    "\n",
    "for id in ids[:1]:\n",
    "    new_id += 1 \n",
    "    try:\n",
    "        record = wfdb.rdrecord('D:\\\\Proga\\\\AML\\\\datasets\\\\bruno\\\\' + id + \"\\\\\"+ id+\"_PPG\")\n",
    "\n",
    "        #print(record.__dict__)\n",
    "        #print(record.p_signal.shape)\n",
    "        #channel_index = record.sig_name.index('NIBP')\n",
    "        signal = record.p_signal.astype(np.float32)\n",
    "        fs = record.fs\n",
    "        print(len(signal[0]))\n",
    "\n",
    "        if fs != target_fs:\n",
    "            num_samples = int(len(signal) * target_fs / fs)\n",
    "            signal = resample(signal, num_samples).astype(np.float32)\n",
    "            fs = target_fs\n",
    "\n",
    "        signal = signal[:five_minute_samples]\n",
    "        \n",
    "        try:\n",
    "            wd, m = hp.process(signal[0], fs)\n",
    "            idx = int(subjects[subjects[\"ID\"] == id].index.to_list()[0])\n",
    "            age_group = age_groups[idx]\n",
    "            \n",
    "            result_metadata.append({\n",
    "                'id': new_id,\n",
    "                'age_group': age_group,\n",
    "                **m\n",
    "            })\n",
    "            \n",
    "            result_signals[new_id] = signal\n",
    "            \n",
    "            print((new_id, id, age_group, signal, m))\n",
    "\n",
    "        except hp.exceptions.BadSignalWarning as e:\n",
    "            result_metadata.append({\n",
    "                'id': new_id,\n",
    "                'age_group': None,\n",
    "                'error': \"BadSignalWarning\"\n",
    "            })\n",
    "            print((new_id, id, None, None, None, \"BadSignalWarning\"))\n",
    "\n",
    "    except FileNotFoundError as e:\n",
    "        result_metadata.append({\n",
    "            'id': new_id,\n",
    "            'age_group': None,\n",
    "            'error': \"FileNotFound\"\n",
    "        })\n",
    "        print((new_id, id, None, None, None, \"FileNotFound\"))\n",
    "\n",
    "    print(f\"Process end: {id}\")"
   ]
  }
 ],
 "metadata": {
  "kernelspec": {
   "display_name": "Python 3",
   "language": "python",
   "name": "python3"
  },
  "language_info": {
   "codemirror_mode": {
    "name": "ipython",
    "version": 3
   },
   "file_extension": ".py",
   "mimetype": "text/x-python",
   "name": "python",
   "nbconvert_exporter": "python",
   "pygments_lexer": "ipython3",
   "version": "3.11.9"
  }
 },
 "nbformat": 4,
 "nbformat_minor": 2
}
